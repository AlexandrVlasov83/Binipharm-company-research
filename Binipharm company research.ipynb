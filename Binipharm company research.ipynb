{
 "cells": [
  {
   "cell_type": "markdown",
   "id": "d77cb420",
   "metadata": {},
   "source": [
    "### Работа с данными компаниии Binipharm"
   ]
  },
  {
   "cell_type": "code",
   "execution_count": 1,
   "id": "095b0579",
   "metadata": {},
   "outputs": [],
   "source": [
    "# Загружаем необходимые библиотеки\n",
    "\n",
    "import pandas as pd\n",
    "from datetime import datetime\n",
    "import datetime as dt\n",
    "from datetime import timedelta\n",
    "import matplotlib.pyplot as plt"
   ]
  },
  {
   "cell_type": "code",
   "execution_count": 130,
   "id": "582eb3c5",
   "metadata": {},
   "outputs": [],
   "source": [
    "# Подгружаем таблицы данных\n",
    "# - первая таблица: основная информация по регионам\n",
    "# - вторая таблица: дополненные данные по смс и емейл сообщениям\n",
    "\n",
    "company_sms_email = pd.read_csv('Данные по маркетинговым кампаниям смс и e-mail.xlsx - data.csv')\n",
    "binipharm_info = pd.read_excel('Binipharm Data SMS_Email.xlsx')"
   ]
  },
  {
   "cell_type": "code",
   "execution_count": 131,
   "id": "7b8159e9",
   "metadata": {},
   "outputs": [
    {
     "name": "stdout",
     "output_type": "stream",
     "text": [
      "           oblastId          sent     delivered        opened       clicked  \\\n",
      "count  57794.000000  58457.000000  58457.000000  58457.000000  58457.000000   \n",
      "mean      47.632886     67.503088     64.535642      2.627880      0.257095   \n",
      "std       28.716269    244.308691    232.256195     17.998521      2.068508   \n",
      "min        1.000000      0.000000      0.000000      0.000000      0.000000   \n",
      "25%       26.000000      2.000000      2.000000      0.000000      0.000000   \n",
      "50%       47.000000      8.000000      8.000000      0.000000      0.000000   \n",
      "75%       66.000000     38.000000     37.000000      1.000000      0.000000   \n",
      "max      269.000000  12420.000000  10093.000000    993.000000    296.000000   \n",
      "\n",
      "       unsubscribed  \n",
      "count  58457.000000  \n",
      "mean       0.091229  \n",
      "std        0.886007  \n",
      "min        0.000000  \n",
      "25%        0.000000  \n",
      "50%        0.000000  \n",
      "75%        0.000000  \n",
      "max       78.000000  \n",
      "              sent     delivered       opened      clicked  unsubscribed\n",
      "count   3387.00000   3387.000000  3387.000000  3387.000000   3387.000000\n",
      "mean    1242.38323   1189.260703    70.840567    27.016534      1.633599\n",
      "std     3932.30454   3728.317517   257.115134   153.569826     10.066264\n",
      "min        0.00000      0.000000     0.000000     0.000000      0.000000\n",
      "25%        1.00000      1.000000     0.000000     0.000000      0.000000\n",
      "50%        4.00000      4.000000     0.000000     0.000000      0.000000\n",
      "75%      106.00000    104.500000     1.000000     0.000000      0.000000\n",
      "max    35735.00000  33905.000000  3826.000000  3320.000000    191.000000\n"
     ]
    }
   ],
   "source": [
    "print(company_sms_email.describe())\n",
    "print(binipharm_info.describe())"
   ]
  },
  {
   "cell_type": "code",
   "execution_count": 132,
   "id": "6ffdea11",
   "metadata": {
    "scrolled": true
   },
   "outputs": [
    {
     "name": "stdout",
     "output_type": "stream",
     "text": [
      "0    1/12/2022\n",
      "Name: data_kommunikacii, dtype: object\n",
      "0    2022-01-12\n",
      "Name: data_kommunikacii, dtype: object\n"
     ]
    }
   ],
   "source": [
    "print(company_sms_email['data_kommunikacii'].head(1))\n",
    "print(binipharm_info.data_kommunikacii.head(1))"
   ]
  },
  {
   "cell_type": "code",
   "execution_count": 133,
   "id": "aece8baf",
   "metadata": {},
   "outputs": [],
   "source": [
    "# Функия для конвертации даты коммуникации в датафрейме company_sms_email\n",
    "\n",
    "def date_kom(data):\n",
    "    try:\n",
    "        return datetime.strptime(data, '%m/%d/%Y')\n",
    "    except:\n",
    "        pass"
   ]
  },
  {
   "cell_type": "code",
   "execution_count": 134,
   "id": "88f7d6a7",
   "metadata": {},
   "outputs": [],
   "source": [
    "# Функция для конвертации даты коммуникации в датафрейме binipharm_info\n",
    "\n",
    "def date_kom2(data):\n",
    "    try:\n",
    "        return datetime.strptime(data, '%Y-%m-%d')\n",
    "    except:\n",
    "        pass"
   ]
  },
  {
   "cell_type": "code",
   "execution_count": 135,
   "id": "fd1777eb",
   "metadata": {},
   "outputs": [],
   "source": [
    "# конвертация данных в колонке data_kommunikacii\n",
    "\n",
    "binipharm_info['data_kommunikacii'] = binipharm_info.data_kommunikacii.apply(date_kom2)\n",
    "company_sms_email['data_kommunikacii'] = company_sms_email.data_kommunikacii.apply(date_kom)"
   ]
  },
  {
   "cell_type": "code",
   "execution_count": 136,
   "id": "a89d4df5",
   "metadata": {
    "scrolled": true
   },
   "outputs": [
    {
     "name": "stdout",
     "output_type": "stream",
     "text": [
      "0   2022-01-12\n",
      "Name: data_kommunikacii, dtype: datetime64[ns]\n",
      "0   2022-01-12\n",
      "Name: data_kommunikacii, dtype: datetime64[ns]\n"
     ]
    }
   ],
   "source": [
    "print(company_sms_email['data_kommunikacii'].head(1))\n",
    "print(binipharm_info.data_kommunikacii.head(1))"
   ]
  },
  {
   "cell_type": "markdown",
   "id": "9b39891b",
   "metadata": {},
   "source": [
    "#### Соединяем два датафрейма"
   ]
  },
  {
   "cell_type": "code",
   "execution_count": 25,
   "id": "d6deee5a",
   "metadata": {
    "scrolled": true
   },
   "outputs": [],
   "source": [
    "# binipharm_info.where((binipharm_info.brand == 'Гастростат, Урдокса')&(binipharm_info.target == 'Аллергологи')&(binipharm_info.data_kommunikacii == '2022-01-12')).dropna()"
   ]
  },
  {
   "cell_type": "code",
   "execution_count": 26,
   "id": "ad68b238",
   "metadata": {
    "scrolled": true
   },
   "outputs": [],
   "source": [
    "# company_sms_email.where((company_sms_email.brand == 'Гастростат, Урдокса')&(company_sms_email.target == 'Аллергологи')&(company_sms_email.data_kommunikacii == '2022-01-12')).dropna()"
   ]
  },
  {
   "cell_type": "code",
   "execution_count": 137,
   "id": "c7467481",
   "metadata": {
    "scrolled": false
   },
   "outputs": [
    {
     "data": {
      "text/html": [
       "<div>\n",
       "<style scoped>\n",
       "    .dataframe tbody tr th:only-of-type {\n",
       "        vertical-align: middle;\n",
       "    }\n",
       "\n",
       "    .dataframe tbody tr th {\n",
       "        vertical-align: top;\n",
       "    }\n",
       "\n",
       "    .dataframe thead th {\n",
       "        text-align: right;\n",
       "    }\n",
       "</style>\n",
       "<table border=\"1\" class=\"dataframe\">\n",
       "  <thead>\n",
       "    <tr style=\"text-align: right;\">\n",
       "      <th></th>\n",
       "      <th>istochnik</th>\n",
       "      <th>kanal</th>\n",
       "      <th>channel</th>\n",
       "      <th>data_kommunikacii</th>\n",
       "      <th>id_kommunikacii</th>\n",
       "      <th>nazvanie_kommunikacii</th>\n",
       "      <th>tekst_kommunikacii</th>\n",
       "      <th>brand</th>\n",
       "      <th>target</th>\n",
       "      <th>oblastId</th>\n",
       "      <th>oblast</th>\n",
       "      <th>sent</th>\n",
       "      <th>delivered</th>\n",
       "      <th>opened</th>\n",
       "      <th>clicked</th>\n",
       "      <th>unsubscribed</th>\n",
       "    </tr>\n",
       "  </thead>\n",
       "  <tbody>\n",
       "    <tr>\n",
       "      <th>0</th>\n",
       "      <td>Breffi</td>\n",
       "      <td>Внешниe email</td>\n",
       "      <td>email</td>\n",
       "      <td>2022-01-12</td>\n",
       "      <td>707e61c0-c545-420a-b41f-f86e951c3a49</td>\n",
       "      <td>12.01.2022 АК033_БФГ_Гастростат, Урдокса_E-mai...</td>\n",
       "      <td>12.01.2022 АК033_БФГ_Гастростат, Урдокса_E-mai...</td>\n",
       "      <td>Гастростат, Урдокса</td>\n",
       "      <td>Аллергологи</td>\n",
       "      <td>2.0</td>\n",
       "      <td>Башкортостан Республика</td>\n",
       "      <td>1.0</td>\n",
       "      <td>1.0</td>\n",
       "      <td>0.0</td>\n",
       "      <td>0.0</td>\n",
       "      <td>0.0</td>\n",
       "    </tr>\n",
       "    <tr>\n",
       "      <th>1</th>\n",
       "      <td>Breffi</td>\n",
       "      <td>Внешниe email</td>\n",
       "      <td>email</td>\n",
       "      <td>2022-01-12</td>\n",
       "      <td>707e61c0-c545-420a-b41f-f86e951c3a49</td>\n",
       "      <td>12.01.2022 АК033_БФГ_Гастростат, Урдокса_E-mai...</td>\n",
       "      <td>12.01.2022 АК033_БФГ_Гастростат, Урдокса_E-mai...</td>\n",
       "      <td>Гастростат, Урдокса</td>\n",
       "      <td>Гастроэнтерологи</td>\n",
       "      <td>2.0</td>\n",
       "      <td>Башкортостан Республика</td>\n",
       "      <td>594.0</td>\n",
       "      <td>442.0</td>\n",
       "      <td>101.0</td>\n",
       "      <td>8.0</td>\n",
       "      <td>0.0</td>\n",
       "    </tr>\n",
       "  </tbody>\n",
       "</table>\n",
       "</div>"
      ],
      "text/plain": [
       "  istochnik          kanal channel data_kommunikacii  \\\n",
       "0    Breffi  Внешниe email   email        2022-01-12   \n",
       "1    Breffi  Внешниe email   email        2022-01-12   \n",
       "\n",
       "                        id_kommunikacii  \\\n",
       "0  707e61c0-c545-420a-b41f-f86e951c3a49   \n",
       "1  707e61c0-c545-420a-b41f-f86e951c3a49   \n",
       "\n",
       "                               nazvanie_kommunikacii  \\\n",
       "0  12.01.2022 АК033_БФГ_Гастростат, Урдокса_E-mai...   \n",
       "1  12.01.2022 АК033_БФГ_Гастростат, Урдокса_E-mai...   \n",
       "\n",
       "                                  tekst_kommunikacii                brand  \\\n",
       "0  12.01.2022 АК033_БФГ_Гастростат, Урдокса_E-mai...  Гастростат, Урдокса   \n",
       "1  12.01.2022 АК033_БФГ_Гастростат, Урдокса_E-mai...  Гастростат, Урдокса   \n",
       "\n",
       "             target  oblastId                   oblast   sent  delivered  \\\n",
       "0       Аллергологи       2.0  Башкортостан Республика    1.0        1.0   \n",
       "1  Гастроэнтерологи       2.0  Башкортостан Республика  594.0      442.0   \n",
       "\n",
       "   opened  clicked  unsubscribed  \n",
       "0     0.0      0.0           0.0  \n",
       "1   101.0      8.0           0.0  "
      ]
     },
     "execution_count": 137,
     "metadata": {},
     "output_type": "execute_result"
    }
   ],
   "source": [
    "binipharm_dop = company_sms_email[['istochnik', 'kanal', 'channel', 'data_kommunikacii', 'id_kommunikacii',\n",
    "       'nazvanie_kommunikacii', 'tekst_kommunikacii', 'brand', 'target',\n",
    "       'oblastId', 'oblast']].merge(binipharm_info, how='left', on=['istochnik', 'kanal', 'data_kommunikacii', 'id_kommunikacii',\n",
    "       'nazvanie_kommunikacii', 'tekst_kommunikacii', 'brand', 'target'])\n",
    "binipharm_dop.dropna().head(2)"
   ]
  },
  {
   "cell_type": "code",
   "execution_count": 138,
   "id": "4d555948",
   "metadata": {
    "scrolled": true
   },
   "outputs": [
    {
     "name": "stdout",
     "output_type": "stream",
     "text": [
      "16273304.999999996\n",
      "153618\n"
     ]
    }
   ],
   "source": [
    "# проверка наполненности полученного датафрейма\n",
    "\n",
    "print(binipharm_dop.opened.sum())\n",
    "print(company_sms_email.opened.sum())"
   ]
  },
  {
   "cell_type": "code",
   "execution_count": 139,
   "id": "eea3eb46",
   "metadata": {
    "scrolled": true
   },
   "outputs": [
    {
     "data": {
      "text/html": [
       "<div>\n",
       "<style scoped>\n",
       "    .dataframe tbody tr th:only-of-type {\n",
       "        vertical-align: middle;\n",
       "    }\n",
       "\n",
       "    .dataframe tbody tr th {\n",
       "        vertical-align: top;\n",
       "    }\n",
       "\n",
       "    .dataframe thead th {\n",
       "        text-align: right;\n",
       "    }\n",
       "</style>\n",
       "<table border=\"1\" class=\"dataframe\">\n",
       "  <thead>\n",
       "    <tr style=\"text-align: right;\">\n",
       "      <th></th>\n",
       "      <th>oblastId</th>\n",
       "      <th>sent</th>\n",
       "      <th>delivered</th>\n",
       "      <th>opened</th>\n",
       "      <th>clicked</th>\n",
       "      <th>unsubscribed</th>\n",
       "    </tr>\n",
       "  </thead>\n",
       "  <tbody>\n",
       "    <tr>\n",
       "      <th>count</th>\n",
       "      <td>113902.000000</td>\n",
       "      <td>113902.000000</td>\n",
       "      <td>113902.000000</td>\n",
       "      <td>113902.000000</td>\n",
       "      <td>113902.000000</td>\n",
       "      <td>113902.000000</td>\n",
       "    </tr>\n",
       "    <tr>\n",
       "      <th>mean</th>\n",
       "      <td>47.611245</td>\n",
       "      <td>2365.120481</td>\n",
       "      <td>2267.025425</td>\n",
       "      <td>142.266606</td>\n",
       "      <td>46.230347</td>\n",
       "      <td>3.516172</td>\n",
       "    </tr>\n",
       "    <tr>\n",
       "      <th>std</th>\n",
       "      <td>28.696450</td>\n",
       "      <td>5178.334154</td>\n",
       "      <td>4924.355711</td>\n",
       "      <td>358.368101</td>\n",
       "      <td>199.084990</td>\n",
       "      <td>15.039619</td>\n",
       "    </tr>\n",
       "    <tr>\n",
       "      <th>min</th>\n",
       "      <td>1.000000</td>\n",
       "      <td>0.000000</td>\n",
       "      <td>0.000000</td>\n",
       "      <td>0.000000</td>\n",
       "      <td>0.000000</td>\n",
       "      <td>0.000000</td>\n",
       "    </tr>\n",
       "    <tr>\n",
       "      <th>25%</th>\n",
       "      <td>26.000000</td>\n",
       "      <td>5.000000</td>\n",
       "      <td>5.000000</td>\n",
       "      <td>0.000000</td>\n",
       "      <td>0.000000</td>\n",
       "      <td>0.000000</td>\n",
       "    </tr>\n",
       "    <tr>\n",
       "      <th>50%</th>\n",
       "      <td>47.000000</td>\n",
       "      <td>63.000000</td>\n",
       "      <td>61.000000</td>\n",
       "      <td>0.000000</td>\n",
       "      <td>0.000000</td>\n",
       "      <td>0.000000</td>\n",
       "    </tr>\n",
       "    <tr>\n",
       "      <th>75%</th>\n",
       "      <td>66.000000</td>\n",
       "      <td>1582.000000</td>\n",
       "      <td>1556.000000</td>\n",
       "      <td>44.000000</td>\n",
       "      <td>4.000000</td>\n",
       "      <td>0.000000</td>\n",
       "    </tr>\n",
       "    <tr>\n",
       "      <th>max</th>\n",
       "      <td>269.000000</td>\n",
       "      <td>35735.000000</td>\n",
       "      <td>33905.000000</td>\n",
       "      <td>3826.000000</td>\n",
       "      <td>3320.000000</td>\n",
       "      <td>191.000000</td>\n",
       "    </tr>\n",
       "  </tbody>\n",
       "</table>\n",
       "</div>"
      ],
      "text/plain": [
       "            oblastId           sent      delivered         opened  \\\n",
       "count  113902.000000  113902.000000  113902.000000  113902.000000   \n",
       "mean       47.611245    2365.120481    2267.025425     142.266606   \n",
       "std        28.696450    5178.334154    4924.355711     358.368101   \n",
       "min         1.000000       0.000000       0.000000       0.000000   \n",
       "25%        26.000000       5.000000       5.000000       0.000000   \n",
       "50%        47.000000      63.000000      61.000000       0.000000   \n",
       "75%        66.000000    1582.000000    1556.000000      44.000000   \n",
       "max       269.000000   35735.000000   33905.000000    3826.000000   \n",
       "\n",
       "             clicked   unsubscribed  \n",
       "count  113902.000000  113902.000000  \n",
       "mean       46.230347       3.516172  \n",
       "std       199.084990      15.039619  \n",
       "min         0.000000       0.000000  \n",
       "25%         0.000000       0.000000  \n",
       "50%         0.000000       0.000000  \n",
       "75%         4.000000       0.000000  \n",
       "max      3320.000000     191.000000  "
      ]
     },
     "execution_count": 139,
     "metadata": {},
     "output_type": "execute_result"
    }
   ],
   "source": [
    "# соединяем два датафрейма\n",
    "\n",
    "binipharm_info_all = (pd.concat([company_sms_email,binipharm_dop], ignore_index=True)).dropna()\n",
    "binipharm_info_all.describe()"
   ]
  },
  {
   "cell_type": "markdown",
   "id": "ec202d3f",
   "metadata": {},
   "source": [
    "#### Компонуем данные в датафрейме. Группируем по колонкам"
   ]
  },
  {
   "cell_type": "code",
   "execution_count": 35,
   "id": "e645cfb3",
   "metadata": {},
   "outputs": [],
   "source": [
    "# Функция, позволяющая определить, количество уникальных значений в столбце\n",
    "\n",
    "dict_columns = {}\n",
    "def columns_rating(data):\n",
    "    for i in list(data.columns):\n",
    "        dict_columns[len(data[i].unique())] = i\n",
    "    for k in list((dict(sorted(dict_columns.items(),reverse=True))).items()):\n",
    "        print (k)"
   ]
  },
  {
   "cell_type": "code",
   "execution_count": 140,
   "id": "d513fad3",
   "metadata": {
    "scrolled": false
   },
   "outputs": [
    {
     "name": "stdout",
     "output_type": "stream",
     "text": [
      "(1730, 'sent')\n",
      "(1728, 'delivered')\n",
      "(856, 'id_kommunikacii')\n",
      "(838, 'nazvanie_kommunikacii')\n",
      "(746, 'tekst_kommunikacii')\n",
      "(472, 'opened')\n",
      "(355, 'data_kommunikacii')\n",
      "(212, 'clicked')\n",
      "(125, 'oblast')\n",
      "(119, 'oblastId')\n",
      "(61, 'unsubscribed')\n",
      "(55, 'brand')\n",
      "(45, 'target')\n",
      "(4, 'kanal')\n",
      "(2, 'channel')\n"
     ]
    }
   ],
   "source": [
    "columns_rating(binipharm_info_all)"
   ]
  },
  {
   "cell_type": "code",
   "execution_count": 141,
   "id": "ae22b2c0",
   "metadata": {
    "scrolled": true
   },
   "outputs": [
    {
     "data": {
      "text/html": [
       "<div>\n",
       "<style scoped>\n",
       "    .dataframe tbody tr th:only-of-type {\n",
       "        vertical-align: middle;\n",
       "    }\n",
       "\n",
       "    .dataframe tbody tr th {\n",
       "        vertical-align: top;\n",
       "    }\n",
       "\n",
       "    .dataframe thead th {\n",
       "        text-align: right;\n",
       "    }\n",
       "</style>\n",
       "<table border=\"1\" class=\"dataframe\">\n",
       "  <thead>\n",
       "    <tr style=\"text-align: right;\">\n",
       "      <th></th>\n",
       "      <th>oblastId</th>\n",
       "      <th>sent</th>\n",
       "      <th>delivered</th>\n",
       "      <th>opened</th>\n",
       "      <th>clicked</th>\n",
       "      <th>unsubscribed</th>\n",
       "    </tr>\n",
       "  </thead>\n",
       "  <tbody>\n",
       "    <tr>\n",
       "      <th>count</th>\n",
       "      <td>57595.000000</td>\n",
       "      <td>57595.000000</td>\n",
       "      <td>57595.000000</td>\n",
       "      <td>57595.000000</td>\n",
       "      <td>57595.000000</td>\n",
       "      <td>57595.000000</td>\n",
       "    </tr>\n",
       "    <tr>\n",
       "      <th>mean</th>\n",
       "      <td>47.617502</td>\n",
       "      <td>4677.349648</td>\n",
       "      <td>4483.353242</td>\n",
       "      <td>281.351697</td>\n",
       "      <td>91.426843</td>\n",
       "      <td>6.953711</td>\n",
       "    </tr>\n",
       "    <tr>\n",
       "      <th>std</th>\n",
       "      <td>28.726746</td>\n",
       "      <td>6623.497998</td>\n",
       "      <td>6286.766118</td>\n",
       "      <td>468.598466</td>\n",
       "      <td>272.589266</td>\n",
       "      <td>20.837233</td>\n",
       "    </tr>\n",
       "    <tr>\n",
       "      <th>min</th>\n",
       "      <td>1.000000</td>\n",
       "      <td>0.000000</td>\n",
       "      <td>0.000000</td>\n",
       "      <td>0.000000</td>\n",
       "      <td>0.000000</td>\n",
       "      <td>0.000000</td>\n",
       "    </tr>\n",
       "    <tr>\n",
       "      <th>25%</th>\n",
       "      <td>26.000000</td>\n",
       "      <td>154.000000</td>\n",
       "      <td>150.000000</td>\n",
       "      <td>0.000000</td>\n",
       "      <td>0.000000</td>\n",
       "      <td>0.000000</td>\n",
       "    </tr>\n",
       "    <tr>\n",
       "      <th>50%</th>\n",
       "      <td>47.000000</td>\n",
       "      <td>1489.000000</td>\n",
       "      <td>1430.000000</td>\n",
       "      <td>38.000000</td>\n",
       "      <td>4.000000</td>\n",
       "      <td>0.000000</td>\n",
       "    </tr>\n",
       "    <tr>\n",
       "      <th>75%</th>\n",
       "      <td>66.000000</td>\n",
       "      <td>7392.000000</td>\n",
       "      <td>7219.000000</td>\n",
       "      <td>367.000000</td>\n",
       "      <td>52.000000</td>\n",
       "      <td>5.000000</td>\n",
       "    </tr>\n",
       "    <tr>\n",
       "      <th>max</th>\n",
       "      <td>269.000000</td>\n",
       "      <td>39125.000000</td>\n",
       "      <td>38850.000000</td>\n",
       "      <td>4589.000000</td>\n",
       "      <td>3320.000000</td>\n",
       "      <td>218.000000</td>\n",
       "    </tr>\n",
       "  </tbody>\n",
       "</table>\n",
       "</div>"
      ],
      "text/plain": [
       "           oblastId          sent     delivered        opened       clicked  \\\n",
       "count  57595.000000  57595.000000  57595.000000  57595.000000  57595.000000   \n",
       "mean      47.617502   4677.349648   4483.353242    281.351697     91.426843   \n",
       "std       28.726746   6623.497998   6286.766118    468.598466    272.589266   \n",
       "min        1.000000      0.000000      0.000000      0.000000      0.000000   \n",
       "25%       26.000000    154.000000    150.000000      0.000000      0.000000   \n",
       "50%       47.000000   1489.000000   1430.000000     38.000000      4.000000   \n",
       "75%       66.000000   7392.000000   7219.000000    367.000000     52.000000   \n",
       "max      269.000000  39125.000000  38850.000000   4589.000000   3320.000000   \n",
       "\n",
       "       unsubscribed  \n",
       "count  57595.000000  \n",
       "mean       6.953711  \n",
       "std       20.837233  \n",
       "min        0.000000  \n",
       "25%        0.000000  \n",
       "50%        0.000000  \n",
       "75%        5.000000  \n",
       "max      218.000000  "
      ]
     },
     "execution_count": 141,
     "metadata": {},
     "output_type": "execute_result"
    }
   ],
   "source": [
    "binipharm_info_all = binipharm_info_all.groupby(['id_kommunikacii','nazvanie_kommunikacii','tekst_kommunikacii','data_kommunikacii','oblast','oblastId','brand','target','kanal','channel','istochnik']).sum().reset_index()\n",
    "binipharm_info_all.describe()"
   ]
  },
  {
   "cell_type": "code",
   "execution_count": 142,
   "id": "15805dd5",
   "metadata": {},
   "outputs": [
    {
     "name": "stdout",
     "output_type": "stream",
     "text": [
      "269391952.99999964\n",
      "3946028\n"
     ]
    }
   ],
   "source": [
    "print(binipharm_info_all.sent.sum())\n",
    "print(company_sms_email.sent.sum())"
   ]
  },
  {
   "cell_type": "code",
   "execution_count": 143,
   "id": "b75324c2",
   "metadata": {
    "scrolled": true
   },
   "outputs": [
    {
     "data": {
      "text/html": [
       "<div>\n",
       "<style scoped>\n",
       "    .dataframe tbody tr th:only-of-type {\n",
       "        vertical-align: middle;\n",
       "    }\n",
       "\n",
       "    .dataframe tbody tr th {\n",
       "        vertical-align: top;\n",
       "    }\n",
       "\n",
       "    .dataframe thead th {\n",
       "        text-align: right;\n",
       "    }\n",
       "</style>\n",
       "<table border=\"1\" class=\"dataframe\">\n",
       "  <thead>\n",
       "    <tr style=\"text-align: right;\">\n",
       "      <th></th>\n",
       "      <th>id_kommunikacii</th>\n",
       "      <th>nazvanie_kommunikacii</th>\n",
       "      <th>tekst_kommunikacii</th>\n",
       "      <th>data_kommunikacii</th>\n",
       "      <th>oblast</th>\n",
       "      <th>oblastId</th>\n",
       "      <th>brand</th>\n",
       "      <th>target</th>\n",
       "      <th>kanal</th>\n",
       "      <th>channel</th>\n",
       "      <th>istochnik</th>\n",
       "      <th>sent</th>\n",
       "      <th>delivered</th>\n",
       "      <th>opened</th>\n",
       "      <th>clicked</th>\n",
       "      <th>unsubscribed</th>\n",
       "    </tr>\n",
       "  </thead>\n",
       "  <tbody>\n",
       "    <tr>\n",
       "      <th>0</th>\n",
       "      <td>00793d2e-0c76-4b1a-ac43-3e139cadd484</td>\n",
       "      <td>22.03.2023 ВА036_Биннофарм_Сосуд. хирурги, фле...</td>\n",
       "      <td>22.03.2023 ВА036_Биннофарм_Сосуд. хирурги, фле...</td>\n",
       "      <td>2023-03-22</td>\n",
       "      <td>АР Крым</td>\n",
       "      <td>91.0</td>\n",
       "      <td>Венарус, Венапрокт Алиум, Дексонал</td>\n",
       "      <td>Хирурги</td>\n",
       "      <td>Внешниe email</td>\n",
       "      <td>email</td>\n",
       "      <td>Breffi</td>\n",
       "      <td>0.0</td>\n",
       "      <td>0.0</td>\n",
       "      <td>0.0</td>\n",
       "      <td>0.0</td>\n",
       "      <td>0.0</td>\n",
       "    </tr>\n",
       "    <tr>\n",
       "      <th>1</th>\n",
       "      <td>00793d2e-0c76-4b1a-ac43-3e139cadd484</td>\n",
       "      <td>22.03.2023 ВА036_Биннофарм_Сосуд. хирурги, фле...</td>\n",
       "      <td>22.03.2023 ВА036_Биннофарм_Сосуд. хирурги, фле...</td>\n",
       "      <td>2023-03-22</td>\n",
       "      <td>Адыгея республика</td>\n",
       "      <td>1.0</td>\n",
       "      <td>Венарус, Венапрокт Алиум, Дексонал</td>\n",
       "      <td>Хирурги</td>\n",
       "      <td>Внешниe email</td>\n",
       "      <td>email</td>\n",
       "      <td>Breffi</td>\n",
       "      <td>0.0</td>\n",
       "      <td>0.0</td>\n",
       "      <td>0.0</td>\n",
       "      <td>0.0</td>\n",
       "      <td>0.0</td>\n",
       "    </tr>\n",
       "  </tbody>\n",
       "</table>\n",
       "</div>"
      ],
      "text/plain": [
       "                        id_kommunikacii  \\\n",
       "0  00793d2e-0c76-4b1a-ac43-3e139cadd484   \n",
       "1  00793d2e-0c76-4b1a-ac43-3e139cadd484   \n",
       "\n",
       "                               nazvanie_kommunikacii  \\\n",
       "0  22.03.2023 ВА036_Биннофарм_Сосуд. хирурги, фле...   \n",
       "1  22.03.2023 ВА036_Биннофарм_Сосуд. хирурги, фле...   \n",
       "\n",
       "                                  tekst_kommunikacii data_kommunikacii  \\\n",
       "0  22.03.2023 ВА036_Биннофарм_Сосуд. хирурги, фле...        2023-03-22   \n",
       "1  22.03.2023 ВА036_Биннофарм_Сосуд. хирурги, фле...        2023-03-22   \n",
       "\n",
       "              oblast  oblastId                               brand   target  \\\n",
       "0            АР Крым      91.0  Венарус, Венапрокт Алиум, Дексонал  Хирурги   \n",
       "1  Адыгея республика       1.0  Венарус, Венапрокт Алиум, Дексонал  Хирурги   \n",
       "\n",
       "           kanal channel istochnik  sent  delivered  opened  clicked  \\\n",
       "0  Внешниe email   email    Breffi   0.0        0.0     0.0      0.0   \n",
       "1  Внешниe email   email    Breffi   0.0        0.0     0.0      0.0   \n",
       "\n",
       "   unsubscribed  \n",
       "0           0.0  \n",
       "1           0.0  "
      ]
     },
     "execution_count": 143,
     "metadata": {},
     "output_type": "execute_result"
    }
   ],
   "source": [
    "binipharm_info_all.head(2)"
   ]
  },
  {
   "cell_type": "markdown",
   "id": "1effafad",
   "metadata": {},
   "source": [
    "#### Дополняем датафрейм данными opened/sent и percent - процентное отношение открытий к отправленным сообщениям"
   ]
  },
  {
   "cell_type": "code",
   "execution_count": 42,
   "id": "1f5d63cb",
   "metadata": {},
   "outputs": [],
   "source": [
    "# Функция, позволяющая определить соотношение opened/sent\n",
    "\n",
    "def open_sent(data):\n",
    "    if data['sent'] != 0:\n",
    "        return (data['opened'] / data['sent'])\n",
    "    else:\n",
    "        return 0"
   ]
  },
  {
   "cell_type": "code",
   "execution_count": 144,
   "id": "319fee3a",
   "metadata": {},
   "outputs": [],
   "source": [
    "binipharm_info_all['opened/sent'] = binipharm_info_all.apply(open_sent, axis=1)\n",
    "binipharm_info_all['percent'] = binipharm_info_all['opened/sent'].apply(lambda x: int(x * 100))"
   ]
  },
  {
   "cell_type": "code",
   "execution_count": 145,
   "id": "6dbcc431",
   "metadata": {
    "scrolled": true
   },
   "outputs": [
    {
     "data": {
      "text/html": [
       "<div>\n",
       "<style scoped>\n",
       "    .dataframe tbody tr th:only-of-type {\n",
       "        vertical-align: middle;\n",
       "    }\n",
       "\n",
       "    .dataframe tbody tr th {\n",
       "        vertical-align: top;\n",
       "    }\n",
       "\n",
       "    .dataframe thead th {\n",
       "        text-align: right;\n",
       "    }\n",
       "</style>\n",
       "<table border=\"1\" class=\"dataframe\">\n",
       "  <thead>\n",
       "    <tr style=\"text-align: right;\">\n",
       "      <th></th>\n",
       "      <th>oblastId</th>\n",
       "      <th>sent</th>\n",
       "      <th>delivered</th>\n",
       "      <th>opened</th>\n",
       "      <th>clicked</th>\n",
       "      <th>unsubscribed</th>\n",
       "      <th>opened/sent</th>\n",
       "      <th>percent</th>\n",
       "    </tr>\n",
       "  </thead>\n",
       "  <tbody>\n",
       "    <tr>\n",
       "      <th>count</th>\n",
       "      <td>57595.000000</td>\n",
       "      <td>57595.000000</td>\n",
       "      <td>57595.000000</td>\n",
       "      <td>57595.000000</td>\n",
       "      <td>57595.000000</td>\n",
       "      <td>57595.000000</td>\n",
       "      <td>57595.000000</td>\n",
       "      <td>57595.000000</td>\n",
       "    </tr>\n",
       "    <tr>\n",
       "      <th>mean</th>\n",
       "      <td>47.617502</td>\n",
       "      <td>4677.349648</td>\n",
       "      <td>4483.353242</td>\n",
       "      <td>281.351697</td>\n",
       "      <td>91.426843</td>\n",
       "      <td>6.953711</td>\n",
       "      <td>0.083109</td>\n",
       "      <td>8.017502</td>\n",
       "    </tr>\n",
       "    <tr>\n",
       "      <th>std</th>\n",
       "      <td>28.726746</td>\n",
       "      <td>6623.497998</td>\n",
       "      <td>6286.766118</td>\n",
       "      <td>468.598466</td>\n",
       "      <td>272.589266</td>\n",
       "      <td>20.837233</td>\n",
       "      <td>0.847455</td>\n",
       "      <td>84.730968</td>\n",
       "    </tr>\n",
       "    <tr>\n",
       "      <th>min</th>\n",
       "      <td>1.000000</td>\n",
       "      <td>0.000000</td>\n",
       "      <td>0.000000</td>\n",
       "      <td>0.000000</td>\n",
       "      <td>0.000000</td>\n",
       "      <td>0.000000</td>\n",
       "      <td>0.000000</td>\n",
       "      <td>0.000000</td>\n",
       "    </tr>\n",
       "    <tr>\n",
       "      <th>25%</th>\n",
       "      <td>26.000000</td>\n",
       "      <td>154.000000</td>\n",
       "      <td>150.000000</td>\n",
       "      <td>0.000000</td>\n",
       "      <td>0.000000</td>\n",
       "      <td>0.000000</td>\n",
       "      <td>0.000000</td>\n",
       "      <td>0.000000</td>\n",
       "    </tr>\n",
       "    <tr>\n",
       "      <th>50%</th>\n",
       "      <td>47.000000</td>\n",
       "      <td>1489.000000</td>\n",
       "      <td>1430.000000</td>\n",
       "      <td>38.000000</td>\n",
       "      <td>4.000000</td>\n",
       "      <td>0.000000</td>\n",
       "      <td>0.041850</td>\n",
       "      <td>4.000000</td>\n",
       "    </tr>\n",
       "    <tr>\n",
       "      <th>75%</th>\n",
       "      <td>66.000000</td>\n",
       "      <td>7392.000000</td>\n",
       "      <td>7219.000000</td>\n",
       "      <td>367.000000</td>\n",
       "      <td>52.000000</td>\n",
       "      <td>5.000000</td>\n",
       "      <td>0.131743</td>\n",
       "      <td>13.000000</td>\n",
       "    </tr>\n",
       "    <tr>\n",
       "      <th>max</th>\n",
       "      <td>269.000000</td>\n",
       "      <td>39125.000000</td>\n",
       "      <td>38850.000000</td>\n",
       "      <td>4589.000000</td>\n",
       "      <td>3320.000000</td>\n",
       "      <td>218.000000</td>\n",
       "      <td>201.500000</td>\n",
       "      <td>20150.000000</td>\n",
       "    </tr>\n",
       "  </tbody>\n",
       "</table>\n",
       "</div>"
      ],
      "text/plain": [
       "           oblastId          sent     delivered        opened       clicked  \\\n",
       "count  57595.000000  57595.000000  57595.000000  57595.000000  57595.000000   \n",
       "mean      47.617502   4677.349648   4483.353242    281.351697     91.426843   \n",
       "std       28.726746   6623.497998   6286.766118    468.598466    272.589266   \n",
       "min        1.000000      0.000000      0.000000      0.000000      0.000000   \n",
       "25%       26.000000    154.000000    150.000000      0.000000      0.000000   \n",
       "50%       47.000000   1489.000000   1430.000000     38.000000      4.000000   \n",
       "75%       66.000000   7392.000000   7219.000000    367.000000     52.000000   \n",
       "max      269.000000  39125.000000  38850.000000   4589.000000   3320.000000   \n",
       "\n",
       "       unsubscribed   opened/sent       percent  \n",
       "count  57595.000000  57595.000000  57595.000000  \n",
       "mean       6.953711      0.083109      8.017502  \n",
       "std       20.837233      0.847455     84.730968  \n",
       "min        0.000000      0.000000      0.000000  \n",
       "25%        0.000000      0.000000      0.000000  \n",
       "50%        0.000000      0.041850      4.000000  \n",
       "75%        5.000000      0.131743     13.000000  \n",
       "max      218.000000    201.500000  20150.000000  "
      ]
     },
     "execution_count": 145,
     "metadata": {},
     "output_type": "execute_result"
    }
   ],
   "source": [
    "binipharm_info_all.describe()"
   ]
  },
  {
   "cell_type": "markdown",
   "id": "1af6086a",
   "metadata": {},
   "source": [
    "#### Добавляем в датафрейм информацию по рейтингу каналов - \"kanal\""
   ]
  },
  {
   "cell_type": "code",
   "execution_count": 146,
   "id": "35634933",
   "metadata": {
    "scrolled": true
   },
   "outputs": [
    {
     "data": {
      "text/html": [
       "<div>\n",
       "<style scoped>\n",
       "    .dataframe tbody tr th:only-of-type {\n",
       "        vertical-align: middle;\n",
       "    }\n",
       "\n",
       "    .dataframe tbody tr th {\n",
       "        vertical-align: top;\n",
       "    }\n",
       "\n",
       "    .dataframe thead th {\n",
       "        text-align: right;\n",
       "    }\n",
       "</style>\n",
       "<table border=\"1\" class=\"dataframe\">\n",
       "  <thead>\n",
       "    <tr style=\"text-align: right;\">\n",
       "      <th></th>\n",
       "      <th>kanal</th>\n",
       "      <th>opened/sent</th>\n",
       "    </tr>\n",
       "  </thead>\n",
       "  <tbody>\n",
       "    <tr>\n",
       "      <th>0</th>\n",
       "      <td>Внешниe email</td>\n",
       "      <td>3368.940159</td>\n",
       "    </tr>\n",
       "    <tr>\n",
       "      <th>1</th>\n",
       "      <td>Внешние СМС</td>\n",
       "      <td>0.000000</td>\n",
       "    </tr>\n",
       "    <tr>\n",
       "      <th>2</th>\n",
       "      <td>Внутренние email</td>\n",
       "      <td>699.291002</td>\n",
       "    </tr>\n",
       "    <tr>\n",
       "      <th>3</th>\n",
       "      <td>Внутренние СМС</td>\n",
       "      <td>718.403560</td>\n",
       "    </tr>\n",
       "  </tbody>\n",
       "</table>\n",
       "</div>"
      ],
      "text/plain": [
       "              kanal  opened/sent\n",
       "0     Внешниe email  3368.940159\n",
       "1       Внешние СМС     0.000000\n",
       "2  Внутренние email   699.291002\n",
       "3    Внутренние СМС   718.403560"
      ]
     },
     "execution_count": 146,
     "metadata": {},
     "output_type": "execute_result"
    }
   ],
   "source": [
    "# проверяем, сколько по сумме opened/sent для каждого канала\n",
    "\n",
    "binipharm_info_all.groupby('kanal').sum().reset_index()[['kanal','opened/sent']]"
   ]
  },
  {
   "cell_type": "code",
   "execution_count": 75,
   "id": "02b5bec2",
   "metadata": {},
   "outputs": [],
   "source": [
    "# Функция, определяющая, к какому типу относим канал\n",
    "\n",
    "def rating_kanal(data):\n",
    "    if data == 'Внешние СМС':\n",
    "        return 'No data'\n",
    "    elif data == 'Внутренние email':\n",
    "        return 'low'\n",
    "    elif data == 'Внутренние СМС':\n",
    "        return 'middle'\n",
    "    else:\n",
    "        return 'hight'"
   ]
  },
  {
   "cell_type": "code",
   "execution_count": 147,
   "id": "2a2cc42a",
   "metadata": {},
   "outputs": [
    {
     "data": {
      "text/plain": [
       "array(['hight', 'No data', 'middle', 'low'], dtype=object)"
      ]
     },
     "execution_count": 147,
     "metadata": {},
     "output_type": "execute_result"
    }
   ],
   "source": [
    "# Добавляем колонку rating_kanal\n",
    "\n",
    "binipharm_info_all['rating_kanal'] = binipharm_info_all.kanal.apply(rating_kanal)\n",
    "binipharm_info_all.rating_kanal.unique()"
   ]
  },
  {
   "cell_type": "markdown",
   "id": "91889b0e",
   "metadata": {},
   "source": [
    "#### Добавляем в датафрейм данные по рейтингу областей"
   ]
  },
  {
   "cell_type": "code",
   "execution_count": 148,
   "id": "6fd48543",
   "metadata": {
    "scrolled": true
   },
   "outputs": [
    {
     "name": "stdout",
     "output_type": "stream",
     "text": [
      "119\n",
      "125\n"
     ]
    }
   ],
   "source": [
    "# Определяем, что id и oblast имеют разное количество, что означает наличие дублирующих значений в колонке oblast\n",
    "\n",
    "print(len(binipharm_info_all.oblastId.unique()))\n",
    "print(len(binipharm_info_all.oblast.unique()))"
   ]
  },
  {
   "cell_type": "code",
   "execution_count": 149,
   "id": "b791480c",
   "metadata": {
    "scrolled": false
   },
   "outputs": [
    {
     "data": {
      "text/html": [
       "<div>\n",
       "<style scoped>\n",
       "    .dataframe tbody tr th:only-of-type {\n",
       "        vertical-align: middle;\n",
       "    }\n",
       "\n",
       "    .dataframe tbody tr th {\n",
       "        vertical-align: top;\n",
       "    }\n",
       "\n",
       "    .dataframe thead th {\n",
       "        text-align: right;\n",
       "    }\n",
       "</style>\n",
       "<table border=\"1\" class=\"dataframe\">\n",
       "  <thead>\n",
       "    <tr style=\"text-align: right;\">\n",
       "      <th></th>\n",
       "      <th>oblastId</th>\n",
       "      <th>opened/sent</th>\n",
       "    </tr>\n",
       "  </thead>\n",
       "  <tbody>\n",
       "    <tr>\n",
       "      <th>count</th>\n",
       "      <td>119.000000</td>\n",
       "      <td>119.000000</td>\n",
       "    </tr>\n",
       "    <tr>\n",
       "      <th>mean</th>\n",
       "      <td>77.008403</td>\n",
       "      <td>40.223821</td>\n",
       "    </tr>\n",
       "    <tr>\n",
       "      <th>std</th>\n",
       "      <td>61.808822</td>\n",
       "      <td>40.964235</td>\n",
       "    </tr>\n",
       "    <tr>\n",
       "      <th>min</th>\n",
       "      <td>1.000000</td>\n",
       "      <td>0.000000</td>\n",
       "    </tr>\n",
       "    <tr>\n",
       "      <th>25%</th>\n",
       "      <td>30.500000</td>\n",
       "      <td>5.891082</td>\n",
       "    </tr>\n",
       "    <tr>\n",
       "      <th>50%</th>\n",
       "      <td>60.000000</td>\n",
       "      <td>42.370936</td>\n",
       "    </tr>\n",
       "    <tr>\n",
       "      <th>75%</th>\n",
       "      <td>108.500000</td>\n",
       "      <td>57.647851</td>\n",
       "    </tr>\n",
       "    <tr>\n",
       "      <th>max</th>\n",
       "      <td>269.000000</td>\n",
       "      <td>370.120340</td>\n",
       "    </tr>\n",
       "  </tbody>\n",
       "</table>\n",
       "</div>"
      ],
      "text/plain": [
       "         oblastId  opened/sent\n",
       "count  119.000000   119.000000\n",
       "mean    77.008403    40.223821\n",
       "std     61.808822    40.964235\n",
       "min      1.000000     0.000000\n",
       "25%     30.500000     5.891082\n",
       "50%     60.000000    42.370936\n",
       "75%    108.500000    57.647851\n",
       "max    269.000000   370.120340"
      ]
     },
     "execution_count": 149,
     "metadata": {},
     "output_type": "execute_result"
    }
   ],
   "source": [
    "# Определяем отдельный датафрейм по областям\n",
    "\n",
    "rating_obl = binipharm_info_all.groupby('oblastId').sum().reset_index()[['oblastId','opened/sent']].sort_values('opened/sent',ascending=False)\n",
    "rating_obl.describe()"
   ]
  },
  {
   "cell_type": "code",
   "execution_count": 115,
   "id": "937f4207",
   "metadata": {},
   "outputs": [],
   "source": [
    "# Функция, позволяющая провести градацию по сегментам: высокий, средний, низкий\n",
    "\n",
    "def rating_oblast(data):\n",
    "    if float(rating_obl.where(rating_obl.oblastId == data).dropna()['opened/sent']) < ((rating_obl['opened/sent'].max() - rating_obl['opened/sent'].min()) * 0.2):\n",
    "        return 'low'\n",
    "    elif float(rating_obl.where(rating_obl.oblastId == data).dropna()['opened/sent']) > ((rating_obl['opened/sent'].max() - rating_obl['opened/sent'].min()) * 0.66):\n",
    "        return 'hight'\n",
    "    else:\n",
    "        return 'middle'"
   ]
  },
  {
   "cell_type": "code",
   "execution_count": 150,
   "id": "a773cf2c",
   "metadata": {},
   "outputs": [
    {
     "data": {
      "text/plain": [
       "array(['hight', 'middle', 'low'], dtype=object)"
      ]
     },
     "execution_count": 150,
     "metadata": {},
     "output_type": "execute_result"
    }
   ],
   "source": [
    "rating_obl['rating_oblast'] = rating_obl.oblastId.apply(rating_oblast)\n",
    "rating_obl.rating_oblast.unique()"
   ]
  },
  {
   "cell_type": "code",
   "execution_count": 151,
   "id": "d2c1876f",
   "metadata": {
    "scrolled": true
   },
   "outputs": [],
   "source": [
    "# Дополняем основной датафрейм информацией о рейтинге областей\n",
    "\n",
    "binipharm_info_all = binipharm_info_all.merge(rating_obl[['oblastId','rating_oblast']], on='oblastId')"
   ]
  },
  {
   "cell_type": "code",
   "execution_count": 153,
   "id": "026533d8",
   "metadata": {
    "scrolled": true
   },
   "outputs": [
    {
     "data": {
      "text/plain": [
       "array(['low', 'middle', 'hight'], dtype=object)"
      ]
     },
     "execution_count": 153,
     "metadata": {},
     "output_type": "execute_result"
    }
   ],
   "source": [
    "binipharm_info_all.rating_oblast.unique()"
   ]
  },
  {
   "cell_type": "markdown",
   "id": "8f5c28fc",
   "metadata": {},
   "source": [
    "#### Добавляем в датафрейм данные по рейтингу брендов"
   ]
  },
  {
   "cell_type": "code",
   "execution_count": 157,
   "id": "63cbf3d3",
   "metadata": {
    "scrolled": true
   },
   "outputs": [
    {
     "data": {
      "text/html": [
       "<div>\n",
       "<style scoped>\n",
       "    .dataframe tbody tr th:only-of-type {\n",
       "        vertical-align: middle;\n",
       "    }\n",
       "\n",
       "    .dataframe tbody tr th {\n",
       "        vertical-align: top;\n",
       "    }\n",
       "\n",
       "    .dataframe thead th {\n",
       "        text-align: right;\n",
       "    }\n",
       "</style>\n",
       "<table border=\"1\" class=\"dataframe\">\n",
       "  <thead>\n",
       "    <tr style=\"text-align: right;\">\n",
       "      <th></th>\n",
       "      <th>opened/sent</th>\n",
       "    </tr>\n",
       "  </thead>\n",
       "  <tbody>\n",
       "    <tr>\n",
       "      <th>count</th>\n",
       "      <td>55.000000</td>\n",
       "    </tr>\n",
       "    <tr>\n",
       "      <th>mean</th>\n",
       "      <td>87.029722</td>\n",
       "    </tr>\n",
       "    <tr>\n",
       "      <th>std</th>\n",
       "      <td>157.689086</td>\n",
       "    </tr>\n",
       "    <tr>\n",
       "      <th>min</th>\n",
       "      <td>0.000000</td>\n",
       "    </tr>\n",
       "    <tr>\n",
       "      <th>25%</th>\n",
       "      <td>2.904782</td>\n",
       "    </tr>\n",
       "    <tr>\n",
       "      <th>50%</th>\n",
       "      <td>27.292963</td>\n",
       "    </tr>\n",
       "    <tr>\n",
       "      <th>75%</th>\n",
       "      <td>95.207968</td>\n",
       "    </tr>\n",
       "    <tr>\n",
       "      <th>max</th>\n",
       "      <td>1017.498994</td>\n",
       "    </tr>\n",
       "  </tbody>\n",
       "</table>\n",
       "</div>"
      ],
      "text/plain": [
       "       opened/sent\n",
       "count    55.000000\n",
       "mean     87.029722\n",
       "std     157.689086\n",
       "min       0.000000\n",
       "25%       2.904782\n",
       "50%      27.292963\n",
       "75%      95.207968\n",
       "max    1017.498994"
      ]
     },
     "execution_count": 157,
     "metadata": {},
     "output_type": "execute_result"
    }
   ],
   "source": [
    "# Определяем отдельный датафрейм по брендам\n",
    "\n",
    "rating_brand = binipharm_info_all.groupby('brand').sum().reset_index()[['brand','opened/sent']].sort_values('opened/sent',ascending=False)\n",
    "rating_brand.describe()"
   ]
  },
  {
   "cell_type": "code",
   "execution_count": 164,
   "id": "722cf667",
   "metadata": {},
   "outputs": [],
   "source": [
    "# Функция, позволяющая провести градацию по сегментам: высокий, средний, низкий\n",
    "\n",
    "def rating_br(data):\n",
    "    if float(rating_brand.where(rating_brand.brand == data).dropna()['opened/sent']) < ((rating_brand['opened/sent'].max() - rating_brand['opened/sent'].min()) * 0.2):\n",
    "        return 'low'\n",
    "    elif float(rating_brand.where(rating_brand.brand == data).dropna()['opened/sent']) > ((rating_brand['opened/sent'].max() - rating_brand['opened/sent'].min()) * 0.66):\n",
    "        return 'hight'\n",
    "    else:\n",
    "        return 'middle'"
   ]
  },
  {
   "cell_type": "code",
   "execution_count": 166,
   "id": "8e6aed2d",
   "metadata": {},
   "outputs": [
    {
     "data": {
      "text/plain": [
       "array(['hight', 'middle', 'low'], dtype=object)"
      ]
     },
     "execution_count": 166,
     "metadata": {},
     "output_type": "execute_result"
    }
   ],
   "source": [
    "rating_brand['rating_brand'] = rating_brand.brand.apply(rating_br)\n",
    "rating_brand.rating_brand.unique()"
   ]
  },
  {
   "cell_type": "code",
   "execution_count": 168,
   "id": "0b08e147",
   "metadata": {},
   "outputs": [],
   "source": [
    "# Дополняем основной датафрейм информацией о рейтинге брендов\n",
    "\n",
    "binipharm_info_all = binipharm_info_all.merge(rating_brand[['brand','rating_brand']], on='brand')"
   ]
  },
  {
   "cell_type": "code",
   "execution_count": 172,
   "id": "59aa0870",
   "metadata": {},
   "outputs": [
    {
     "data": {
      "text/html": [
       "<div>\n",
       "<style scoped>\n",
       "    .dataframe tbody tr th:only-of-type {\n",
       "        vertical-align: middle;\n",
       "    }\n",
       "\n",
       "    .dataframe tbody tr th {\n",
       "        vertical-align: top;\n",
       "    }\n",
       "\n",
       "    .dataframe thead th {\n",
       "        text-align: right;\n",
       "    }\n",
       "</style>\n",
       "<table border=\"1\" class=\"dataframe\">\n",
       "  <thead>\n",
       "    <tr style=\"text-align: right;\">\n",
       "      <th></th>\n",
       "      <th>id_kommunikacii</th>\n",
       "      <th>nazvanie_kommunikacii</th>\n",
       "      <th>tekst_kommunikacii</th>\n",
       "      <th>data_kommunikacii</th>\n",
       "      <th>oblast</th>\n",
       "      <th>oblastId</th>\n",
       "      <th>brand</th>\n",
       "      <th>target</th>\n",
       "      <th>kanal</th>\n",
       "      <th>channel</th>\n",
       "      <th>...</th>\n",
       "      <th>sent</th>\n",
       "      <th>delivered</th>\n",
       "      <th>opened</th>\n",
       "      <th>clicked</th>\n",
       "      <th>unsubscribed</th>\n",
       "      <th>opened/sent</th>\n",
       "      <th>percent</th>\n",
       "      <th>rating_kanal</th>\n",
       "      <th>rating_oblast</th>\n",
       "      <th>rating_brand</th>\n",
       "    </tr>\n",
       "  </thead>\n",
       "  <tbody>\n",
       "    <tr>\n",
       "      <th>0</th>\n",
       "      <td>00793d2e-0c76-4b1a-ac43-3e139cadd484</td>\n",
       "      <td>22.03.2023 ВА036_Биннофарм_Сосуд. хирурги, фле...</td>\n",
       "      <td>22.03.2023 ВА036_Биннофарм_Сосуд. хирурги, фле...</td>\n",
       "      <td>2023-03-22</td>\n",
       "      <td>АР Крым</td>\n",
       "      <td>91.0</td>\n",
       "      <td>Венарус, Венапрокт Алиум, Дексонал</td>\n",
       "      <td>Хирурги</td>\n",
       "      <td>Внешниe email</td>\n",
       "      <td>email</td>\n",
       "      <td>...</td>\n",
       "      <td>0.0</td>\n",
       "      <td>0.0</td>\n",
       "      <td>0.0</td>\n",
       "      <td>0.0</td>\n",
       "      <td>0.0</td>\n",
       "      <td>0.000000</td>\n",
       "      <td>0</td>\n",
       "      <td>hight</td>\n",
       "      <td>low</td>\n",
       "      <td>middle</td>\n",
       "    </tr>\n",
       "    <tr>\n",
       "      <th>1</th>\n",
       "      <td>05c98dad-b102-456a-9a36-79774c8fe966</td>\n",
       "      <td>25.05.2023 ВА036_Биннофарм_Сосуд. хирурги, фле...</td>\n",
       "      <td>25.05.2023 ВА036_Биннофарм_Сосуд. хирурги, фле...</td>\n",
       "      <td>2023-05-25</td>\n",
       "      <td>АР Крым</td>\n",
       "      <td>91.0</td>\n",
       "      <td>Венарус, Венапрокт Алиум, Дексонал</td>\n",
       "      <td>Хирурги</td>\n",
       "      <td>Внешниe email</td>\n",
       "      <td>email</td>\n",
       "      <td>...</td>\n",
       "      <td>1193.0</td>\n",
       "      <td>1180.0</td>\n",
       "      <td>76.0</td>\n",
       "      <td>7.0</td>\n",
       "      <td>0.0</td>\n",
       "      <td>0.063705</td>\n",
       "      <td>6</td>\n",
       "      <td>hight</td>\n",
       "      <td>low</td>\n",
       "      <td>middle</td>\n",
       "    </tr>\n",
       "    <tr>\n",
       "      <th>2</th>\n",
       "      <td>12bfc906-f172-463f-84d1-bcbe48cc1680</td>\n",
       "      <td>13.03.2023 ВА036_Биннофарм_Сосуд. хирурги, фле...</td>\n",
       "      <td>13.03.2023 ВА036_Биннофарм_Сосуд. хирурги, фле...</td>\n",
       "      <td>2023-05-12</td>\n",
       "      <td>АР Крым</td>\n",
       "      <td>91.0</td>\n",
       "      <td>Венарус, Венапрокт Алиум, Дексонал</td>\n",
       "      <td>Хирурги</td>\n",
       "      <td>Внешниe email</td>\n",
       "      <td>email</td>\n",
       "      <td>...</td>\n",
       "      <td>2.0</td>\n",
       "      <td>0.0</td>\n",
       "      <td>0.0</td>\n",
       "      <td>0.0</td>\n",
       "      <td>0.0</td>\n",
       "      <td>0.000000</td>\n",
       "      <td>0</td>\n",
       "      <td>hight</td>\n",
       "      <td>low</td>\n",
       "      <td>middle</td>\n",
       "    </tr>\n",
       "  </tbody>\n",
       "</table>\n",
       "<p>3 rows × 21 columns</p>\n",
       "</div>"
      ],
      "text/plain": [
       "                        id_kommunikacii  \\\n",
       "0  00793d2e-0c76-4b1a-ac43-3e139cadd484   \n",
       "1  05c98dad-b102-456a-9a36-79774c8fe966   \n",
       "2  12bfc906-f172-463f-84d1-bcbe48cc1680   \n",
       "\n",
       "                               nazvanie_kommunikacii  \\\n",
       "0  22.03.2023 ВА036_Биннофарм_Сосуд. хирурги, фле...   \n",
       "1  25.05.2023 ВА036_Биннофарм_Сосуд. хирурги, фле...   \n",
       "2  13.03.2023 ВА036_Биннофарм_Сосуд. хирурги, фле...   \n",
       "\n",
       "                                  tekst_kommunikacii data_kommunikacii  \\\n",
       "0  22.03.2023 ВА036_Биннофарм_Сосуд. хирурги, фле...        2023-03-22   \n",
       "1  25.05.2023 ВА036_Биннофарм_Сосуд. хирурги, фле...        2023-05-25   \n",
       "2  13.03.2023 ВА036_Биннофарм_Сосуд. хирурги, фле...        2023-05-12   \n",
       "\n",
       "    oblast  oblastId                               brand   target  \\\n",
       "0  АР Крым      91.0  Венарус, Венапрокт Алиум, Дексонал  Хирурги   \n",
       "1  АР Крым      91.0  Венарус, Венапрокт Алиум, Дексонал  Хирурги   \n",
       "2  АР Крым      91.0  Венарус, Венапрокт Алиум, Дексонал  Хирурги   \n",
       "\n",
       "           kanal channel  ...    sent  delivered  opened  clicked  \\\n",
       "0  Внешниe email   email  ...     0.0        0.0     0.0      0.0   \n",
       "1  Внешниe email   email  ...  1193.0     1180.0    76.0      7.0   \n",
       "2  Внешниe email   email  ...     2.0        0.0     0.0      0.0   \n",
       "\n",
       "   unsubscribed  opened/sent  percent  rating_kanal rating_oblast rating_brand  \n",
       "0           0.0     0.000000        0         hight           low       middle  \n",
       "1           0.0     0.063705        6         hight           low       middle  \n",
       "2           0.0     0.000000        0         hight           low       middle  \n",
       "\n",
       "[3 rows x 21 columns]"
      ]
     },
     "execution_count": 172,
     "metadata": {},
     "output_type": "execute_result"
    }
   ],
   "source": [
    "binipharm_info_all.head(3)"
   ]
  },
  {
   "cell_type": "markdown",
   "id": "5fef6f7d",
   "metadata": {},
   "source": [
    "#### Разделяем датафрейм  только со значениями колонки brand = \"Nobrand\" "
   ]
  },
  {
   "cell_type": "code",
   "execution_count": 174,
   "id": "3110c491",
   "metadata": {
    "scrolled": true
   },
   "outputs": [
    {
     "data": {
      "text/html": [
       "<div>\n",
       "<style scoped>\n",
       "    .dataframe tbody tr th:only-of-type {\n",
       "        vertical-align: middle;\n",
       "    }\n",
       "\n",
       "    .dataframe tbody tr th {\n",
       "        vertical-align: top;\n",
       "    }\n",
       "\n",
       "    .dataframe thead th {\n",
       "        text-align: right;\n",
       "    }\n",
       "</style>\n",
       "<table border=\"1\" class=\"dataframe\">\n",
       "  <thead>\n",
       "    <tr style=\"text-align: right;\">\n",
       "      <th></th>\n",
       "      <th>oblastId</th>\n",
       "      <th>sent</th>\n",
       "      <th>delivered</th>\n",
       "      <th>opened</th>\n",
       "      <th>clicked</th>\n",
       "      <th>unsubscribed</th>\n",
       "      <th>opened/sent</th>\n",
       "      <th>percent</th>\n",
       "    </tr>\n",
       "  </thead>\n",
       "  <tbody>\n",
       "    <tr>\n",
       "      <th>count</th>\n",
       "      <td>4907.000000</td>\n",
       "      <td>4907.000000</td>\n",
       "      <td>4907.000000</td>\n",
       "      <td>4907.000000</td>\n",
       "      <td>4907.000000</td>\n",
       "      <td>4907.000000</td>\n",
       "      <td>4907.000000</td>\n",
       "      <td>4907.000000</td>\n",
       "    </tr>\n",
       "    <tr>\n",
       "      <th>mean</th>\n",
       "      <td>46.349297</td>\n",
       "      <td>2481.489709</td>\n",
       "      <td>2376.712044</td>\n",
       "      <td>167.393316</td>\n",
       "      <td>18.589362</td>\n",
       "      <td>12.249643</td>\n",
       "      <td>0.080242</td>\n",
       "      <td>7.785612</td>\n",
       "    </tr>\n",
       "    <tr>\n",
       "      <th>std</th>\n",
       "      <td>25.001351</td>\n",
       "      <td>4007.848498</td>\n",
       "      <td>3819.737549</td>\n",
       "      <td>275.899628</td>\n",
       "      <td>33.537858</td>\n",
       "      <td>33.957400</td>\n",
       "      <td>0.141025</td>\n",
       "      <td>13.993232</td>\n",
       "    </tr>\n",
       "    <tr>\n",
       "      <th>min</th>\n",
       "      <td>1.000000</td>\n",
       "      <td>0.000000</td>\n",
       "      <td>0.000000</td>\n",
       "      <td>0.000000</td>\n",
       "      <td>0.000000</td>\n",
       "      <td>0.000000</td>\n",
       "      <td>0.000000</td>\n",
       "      <td>0.000000</td>\n",
       "    </tr>\n",
       "    <tr>\n",
       "      <th>25%</th>\n",
       "      <td>26.000000</td>\n",
       "      <td>22.000000</td>\n",
       "      <td>22.000000</td>\n",
       "      <td>0.000000</td>\n",
       "      <td>0.000000</td>\n",
       "      <td>0.000000</td>\n",
       "      <td>0.000000</td>\n",
       "      <td>0.000000</td>\n",
       "    </tr>\n",
       "    <tr>\n",
       "      <th>50%</th>\n",
       "      <td>48.000000</td>\n",
       "      <td>632.000000</td>\n",
       "      <td>580.000000</td>\n",
       "      <td>0.000000</td>\n",
       "      <td>0.000000</td>\n",
       "      <td>0.000000</td>\n",
       "      <td>0.000000</td>\n",
       "      <td>0.000000</td>\n",
       "    </tr>\n",
       "    <tr>\n",
       "      <th>75%</th>\n",
       "      <td>66.000000</td>\n",
       "      <td>3525.000000</td>\n",
       "      <td>3462.000000</td>\n",
       "      <td>321.000000</td>\n",
       "      <td>20.000000</td>\n",
       "      <td>5.000000</td>\n",
       "      <td>0.151950</td>\n",
       "      <td>15.000000</td>\n",
       "    </tr>\n",
       "    <tr>\n",
       "      <th>max</th>\n",
       "      <td>261.000000</td>\n",
       "      <td>23642.000000</td>\n",
       "      <td>23369.000000</td>\n",
       "      <td>1748.000000</td>\n",
       "      <td>155.000000</td>\n",
       "      <td>218.000000</td>\n",
       "      <td>1.000000</td>\n",
       "      <td>100.000000</td>\n",
       "    </tr>\n",
       "  </tbody>\n",
       "</table>\n",
       "</div>"
      ],
      "text/plain": [
       "          oblastId          sent     delivered       opened      clicked  \\\n",
       "count  4907.000000   4907.000000   4907.000000  4907.000000  4907.000000   \n",
       "mean     46.349297   2481.489709   2376.712044   167.393316    18.589362   \n",
       "std      25.001351   4007.848498   3819.737549   275.899628    33.537858   \n",
       "min       1.000000      0.000000      0.000000     0.000000     0.000000   \n",
       "25%      26.000000     22.000000     22.000000     0.000000     0.000000   \n",
       "50%      48.000000    632.000000    580.000000     0.000000     0.000000   \n",
       "75%      66.000000   3525.000000   3462.000000   321.000000    20.000000   \n",
       "max     261.000000  23642.000000  23369.000000  1748.000000   155.000000   \n",
       "\n",
       "       unsubscribed  opened/sent      percent  \n",
       "count   4907.000000  4907.000000  4907.000000  \n",
       "mean      12.249643     0.080242     7.785612  \n",
       "std       33.957400     0.141025    13.993232  \n",
       "min        0.000000     0.000000     0.000000  \n",
       "25%        0.000000     0.000000     0.000000  \n",
       "50%        0.000000     0.000000     0.000000  \n",
       "75%        5.000000     0.151950    15.000000  \n",
       "max      218.000000     1.000000   100.000000  "
      ]
     },
     "execution_count": 174,
     "metadata": {},
     "output_type": "execute_result"
    }
   ],
   "source": [
    "binipharm_info_nobrand = binipharm_info_all.where(binipharm_info_all.brand == 'No Brand').dropna().reset_index().drop(columns='index')\n",
    "binipharm_info_nobrand.describe()"
   ]
  },
  {
   "cell_type": "code",
   "execution_count": 175,
   "id": "cc27569d",
   "metadata": {},
   "outputs": [],
   "source": [
    "# Выгружаем данные по четырем таблицам в таблицы excell"
   ]
  },
  {
   "cell_type": "code",
   "execution_count": 683,
   "id": "11a57bcb",
   "metadata": {},
   "outputs": [],
   "source": [
    "binipharm_info_all.to_excel('binipharm_info_all.xlsx')\n",
    "binipharm_info_nobrand.to_excel('binipharm_info_nobrand.xlsx')\n",
    "rating_brand.to_excel('binipharm_rating_brand.xlsx')\n",
    "rating_obl.to_excel('binipharm_rating_obl.xlsx')"
   ]
  },
  {
   "cell_type": "markdown",
   "id": "f08a1c74",
   "metadata": {},
   "source": [
    "### Дополнение"
   ]
  },
  {
   "cell_type": "code",
   "execution_count": 176,
   "id": "51e90690",
   "metadata": {},
   "outputs": [
    {
     "name": "stdout",
     "output_type": "stream",
     "text": [
      "Венарус, Венапрокт Алиум, Дексонал\n"
     ]
    },
    {
     "data": {
      "text/plain": [
       "<Figure size 640x480 with 0 Axes>"
      ]
     },
     "metadata": {},
     "output_type": "display_data"
    },
    {
     "data": {
      "image/png": "[encoded data removed]",
      "text/plain": [
       "<Figure size 640x480 with 1 Axes>"
      ]
     },
     "metadata": {},
     "output_type": "display_data"
    }
   ],
   "source": [
    "for x in binipharm_info_all.brand.unique():    #  разборное занятие\n",
    "    print(x)\n",
    "    plt.figure()\n",
    "    plt.show()\n",
    "    one,two,result = plt.hist(binipharm_info_all[binipharm_info_all.brand == x].data_kommunikacii,50)\n",
    "    plt.show()\n",
    "    break"
   ]
  }
 ],
 "metadata": {
  "kernelspec": {
   "display_name": "Python 3 (ipykernel)",
   "language": "python",
   "name": "python3"
  },
  "language_info": {
   "codemirror_mode": {
    "name": "ipython",
    "version": 3
   },
   "file_extension": ".py",
   "mimetype": "text/x-python",
   "name": "python",
   "nbconvert_exporter": "python",
   "pygments_lexer": "ipython3",
   "version": "3.9.13"
  }
 },
 "nbformat": 4,
 "nbformat_minor": 5
}
